{
 "cells": [
  {
   "cell_type": "code",
   "execution_count": 1,
   "metadata": {},
   "outputs": [],
   "source": [
    "import pandas as pd\n",
    "from pandas import DataFrame\n",
    "\n",
    "import numpy as np\n",
    "np.random.seed(42)\n",
    "\n",
    "from sklearn.metrics import mean_absolute_error, r2_score\n",
    "from sklearn.linear_model import LinearRegression\n",
    "from statsmodels.formula.api import ols\n",
    "import statsmodels.api as sm\n",
    "\n",
    "import scipy.stats as stats\n",
    "\n",
    "import matplotlib\n",
    "import matplotlib.pyplot as plt"
   ]
  },
  {
   "cell_type": "code",
   "execution_count": 2,
   "metadata": {},
   "outputs": [
    {
     "data": {
      "text/plain": [
       "(534, 11)"
      ]
     },
     "execution_count": 2,
     "metadata": {},
     "output_type": "execute_result"
    }
   ],
   "source": [
    "data = pd.read_csv(r'C:\\Users\\Zlatana.Nenova\\OneDrive - University of Denver\\Documents\\DU\\DU Quarters\\Fall 2020\\INFO 4300\\Week 6\\Class 1\\Problems\\CPS1985WageData.txt',sep='\\t')\n",
    "data.shape"
   ]
  },
  {
   "cell_type": "code",
   "execution_count": 3,
   "metadata": {},
   "outputs": [
    {
     "data": {
      "text/html": [
       "<div>\n",
       "<style scoped>\n",
       "    .dataframe tbody tr th:only-of-type {\n",
       "        vertical-align: middle;\n",
       "    }\n",
       "\n",
       "    .dataframe tbody tr th {\n",
       "        vertical-align: top;\n",
       "    }\n",
       "\n",
       "    .dataframe thead th {\n",
       "        text-align: right;\n",
       "    }\n",
       "</style>\n",
       "<table border=\"1\" class=\"dataframe\">\n",
       "  <thead>\n",
       "    <tr style=\"text-align: right;\">\n",
       "      <th></th>\n",
       "      <th>EDUCATION</th>\n",
       "      <th>SOUTH</th>\n",
       "      <th>SEX</th>\n",
       "      <th>EXPERIENCE</th>\n",
       "      <th>UNION</th>\n",
       "      <th>WAGE</th>\n",
       "      <th>AGE</th>\n",
       "      <th>RACE</th>\n",
       "      <th>OCCUPATION</th>\n",
       "      <th>SECTOR</th>\n",
       "      <th>MARR</th>\n",
       "    </tr>\n",
       "  </thead>\n",
       "  <tbody>\n",
       "    <tr>\n",
       "      <th>0</th>\n",
       "      <td>8</td>\n",
       "      <td>0</td>\n",
       "      <td>1</td>\n",
       "      <td>21</td>\n",
       "      <td>0</td>\n",
       "      <td>5.10</td>\n",
       "      <td>35</td>\n",
       "      <td>2</td>\n",
       "      <td>6</td>\n",
       "      <td>1</td>\n",
       "      <td>1</td>\n",
       "    </tr>\n",
       "    <tr>\n",
       "      <th>1</th>\n",
       "      <td>9</td>\n",
       "      <td>0</td>\n",
       "      <td>1</td>\n",
       "      <td>42</td>\n",
       "      <td>0</td>\n",
       "      <td>4.95</td>\n",
       "      <td>57</td>\n",
       "      <td>3</td>\n",
       "      <td>6</td>\n",
       "      <td>1</td>\n",
       "      <td>1</td>\n",
       "    </tr>\n",
       "    <tr>\n",
       "      <th>2</th>\n",
       "      <td>12</td>\n",
       "      <td>0</td>\n",
       "      <td>0</td>\n",
       "      <td>1</td>\n",
       "      <td>0</td>\n",
       "      <td>6.67</td>\n",
       "      <td>19</td>\n",
       "      <td>3</td>\n",
       "      <td>6</td>\n",
       "      <td>1</td>\n",
       "      <td>0</td>\n",
       "    </tr>\n",
       "    <tr>\n",
       "      <th>3</th>\n",
       "      <td>12</td>\n",
       "      <td>0</td>\n",
       "      <td>0</td>\n",
       "      <td>4</td>\n",
       "      <td>0</td>\n",
       "      <td>4.00</td>\n",
       "      <td>22</td>\n",
       "      <td>3</td>\n",
       "      <td>6</td>\n",
       "      <td>0</td>\n",
       "      <td>0</td>\n",
       "    </tr>\n",
       "    <tr>\n",
       "      <th>4</th>\n",
       "      <td>12</td>\n",
       "      <td>0</td>\n",
       "      <td>0</td>\n",
       "      <td>17</td>\n",
       "      <td>0</td>\n",
       "      <td>7.50</td>\n",
       "      <td>35</td>\n",
       "      <td>3</td>\n",
       "      <td>6</td>\n",
       "      <td>0</td>\n",
       "      <td>1</td>\n",
       "    </tr>\n",
       "  </tbody>\n",
       "</table>\n",
       "</div>"
      ],
      "text/plain": [
       "   EDUCATION  SOUTH  SEX  EXPERIENCE  UNION  WAGE  AGE  RACE  OCCUPATION  \\\n",
       "0          8      0    1          21      0  5.10   35     2           6   \n",
       "1          9      0    1          42      0  4.95   57     3           6   \n",
       "2         12      0    0           1      0  6.67   19     3           6   \n",
       "3         12      0    0           4      0  4.00   22     3           6   \n",
       "4         12      0    0          17      0  7.50   35     3           6   \n",
       "\n",
       "   SECTOR  MARR  \n",
       "0       1     1  \n",
       "1       1     1  \n",
       "2       1     0  \n",
       "3       0     0  \n",
       "4       0     1  "
      ]
     },
     "execution_count": 3,
     "metadata": {},
     "output_type": "execute_result"
    }
   ],
   "source": [
    "data.head()"
   ]
  },
  {
   "cell_type": "code",
   "execution_count": 4,
   "metadata": {},
   "outputs": [
    {
     "data": {
      "text/html": [
       "<div>\n",
       "<style scoped>\n",
       "    .dataframe tbody tr th:only-of-type {\n",
       "        vertical-align: middle;\n",
       "    }\n",
       "\n",
       "    .dataframe tbody tr th {\n",
       "        vertical-align: top;\n",
       "    }\n",
       "\n",
       "    .dataframe thead th {\n",
       "        text-align: right;\n",
       "    }\n",
       "</style>\n",
       "<table border=\"1\" class=\"dataframe\">\n",
       "  <thead>\n",
       "    <tr style=\"text-align: right;\">\n",
       "      <th></th>\n",
       "      <th>EDUCATION</th>\n",
       "      <th>SOUTH</th>\n",
       "      <th>SEX</th>\n",
       "      <th>EXPERIENCE</th>\n",
       "      <th>UNION</th>\n",
       "      <th>WAGE</th>\n",
       "      <th>AGE</th>\n",
       "      <th>RACE</th>\n",
       "      <th>OCCUPATION</th>\n",
       "      <th>SECTOR</th>\n",
       "      <th>MARR</th>\n",
       "    </tr>\n",
       "  </thead>\n",
       "  <tbody>\n",
       "    <tr>\n",
       "      <th>count</th>\n",
       "      <td>534.000000</td>\n",
       "      <td>534.000000</td>\n",
       "      <td>534.000000</td>\n",
       "      <td>534.000000</td>\n",
       "      <td>534.000000</td>\n",
       "      <td>534.000000</td>\n",
       "      <td>534.000000</td>\n",
       "      <td>534.000000</td>\n",
       "      <td>534.00000</td>\n",
       "      <td>534.000000</td>\n",
       "      <td>534.000000</td>\n",
       "    </tr>\n",
       "    <tr>\n",
       "      <th>mean</th>\n",
       "      <td>13.018727</td>\n",
       "      <td>0.292135</td>\n",
       "      <td>0.458801</td>\n",
       "      <td>17.822097</td>\n",
       "      <td>0.179775</td>\n",
       "      <td>9.024064</td>\n",
       "      <td>36.833333</td>\n",
       "      <td>2.698502</td>\n",
       "      <td>4.14794</td>\n",
       "      <td>0.275281</td>\n",
       "      <td>0.655431</td>\n",
       "    </tr>\n",
       "    <tr>\n",
       "      <th>std</th>\n",
       "      <td>2.615373</td>\n",
       "      <td>0.455170</td>\n",
       "      <td>0.498767</td>\n",
       "      <td>12.379710</td>\n",
       "      <td>0.384360</td>\n",
       "      <td>5.139097</td>\n",
       "      <td>11.726573</td>\n",
       "      <td>0.679999</td>\n",
       "      <td>1.65580</td>\n",
       "      <td>0.538453</td>\n",
       "      <td>0.475673</td>\n",
       "    </tr>\n",
       "    <tr>\n",
       "      <th>min</th>\n",
       "      <td>2.000000</td>\n",
       "      <td>0.000000</td>\n",
       "      <td>0.000000</td>\n",
       "      <td>0.000000</td>\n",
       "      <td>0.000000</td>\n",
       "      <td>1.000000</td>\n",
       "      <td>18.000000</td>\n",
       "      <td>1.000000</td>\n",
       "      <td>1.00000</td>\n",
       "      <td>0.000000</td>\n",
       "      <td>0.000000</td>\n",
       "    </tr>\n",
       "    <tr>\n",
       "      <th>25%</th>\n",
       "      <td>12.000000</td>\n",
       "      <td>0.000000</td>\n",
       "      <td>0.000000</td>\n",
       "      <td>8.000000</td>\n",
       "      <td>0.000000</td>\n",
       "      <td>5.250000</td>\n",
       "      <td>28.000000</td>\n",
       "      <td>3.000000</td>\n",
       "      <td>3.00000</td>\n",
       "      <td>0.000000</td>\n",
       "      <td>0.000000</td>\n",
       "    </tr>\n",
       "    <tr>\n",
       "      <th>50%</th>\n",
       "      <td>12.000000</td>\n",
       "      <td>0.000000</td>\n",
       "      <td>0.000000</td>\n",
       "      <td>15.000000</td>\n",
       "      <td>0.000000</td>\n",
       "      <td>7.780000</td>\n",
       "      <td>35.000000</td>\n",
       "      <td>3.000000</td>\n",
       "      <td>4.00000</td>\n",
       "      <td>0.000000</td>\n",
       "      <td>1.000000</td>\n",
       "    </tr>\n",
       "    <tr>\n",
       "      <th>75%</th>\n",
       "      <td>15.000000</td>\n",
       "      <td>1.000000</td>\n",
       "      <td>1.000000</td>\n",
       "      <td>26.000000</td>\n",
       "      <td>0.000000</td>\n",
       "      <td>11.250000</td>\n",
       "      <td>44.000000</td>\n",
       "      <td>3.000000</td>\n",
       "      <td>6.00000</td>\n",
       "      <td>0.000000</td>\n",
       "      <td>1.000000</td>\n",
       "    </tr>\n",
       "    <tr>\n",
       "      <th>max</th>\n",
       "      <td>18.000000</td>\n",
       "      <td>1.000000</td>\n",
       "      <td>1.000000</td>\n",
       "      <td>55.000000</td>\n",
       "      <td>1.000000</td>\n",
       "      <td>44.500000</td>\n",
       "      <td>64.000000</td>\n",
       "      <td>3.000000</td>\n",
       "      <td>6.00000</td>\n",
       "      <td>2.000000</td>\n",
       "      <td>1.000000</td>\n",
       "    </tr>\n",
       "  </tbody>\n",
       "</table>\n",
       "</div>"
      ],
      "text/plain": [
       "        EDUCATION       SOUTH         SEX  EXPERIENCE       UNION        WAGE  \\\n",
       "count  534.000000  534.000000  534.000000  534.000000  534.000000  534.000000   \n",
       "mean    13.018727    0.292135    0.458801   17.822097    0.179775    9.024064   \n",
       "std      2.615373    0.455170    0.498767   12.379710    0.384360    5.139097   \n",
       "min      2.000000    0.000000    0.000000    0.000000    0.000000    1.000000   \n",
       "25%     12.000000    0.000000    0.000000    8.000000    0.000000    5.250000   \n",
       "50%     12.000000    0.000000    0.000000   15.000000    0.000000    7.780000   \n",
       "75%     15.000000    1.000000    1.000000   26.000000    0.000000   11.250000   \n",
       "max     18.000000    1.000000    1.000000   55.000000    1.000000   44.500000   \n",
       "\n",
       "              AGE        RACE  OCCUPATION      SECTOR        MARR  \n",
       "count  534.000000  534.000000   534.00000  534.000000  534.000000  \n",
       "mean    36.833333    2.698502     4.14794    0.275281    0.655431  \n",
       "std     11.726573    0.679999     1.65580    0.538453    0.475673  \n",
       "min     18.000000    1.000000     1.00000    0.000000    0.000000  \n",
       "25%     28.000000    3.000000     3.00000    0.000000    0.000000  \n",
       "50%     35.000000    3.000000     4.00000    0.000000    1.000000  \n",
       "75%     44.000000    3.000000     6.00000    0.000000    1.000000  \n",
       "max     64.000000    3.000000     6.00000    2.000000    1.000000  "
      ]
     },
     "execution_count": 4,
     "metadata": {},
     "output_type": "execute_result"
    }
   ],
   "source": [
    "data.describe()"
   ]
  },
  {
   "cell_type": "code",
   "execution_count": 5,
   "metadata": {},
   "outputs": [],
   "source": [
    "data.rename(columns={\"SEX\":\"FEMALE\"},inplace=True)"
   ]
  },
  {
   "cell_type": "markdown",
   "metadata": {},
   "source": [
    "Occupation, race, and sector are categorical variables <br>\n",
    "Occupation: 1=Management, 2=Sales, 3=Clerical, 4=Service, 5=Professional, 6=Other<br>\n",
    "Race: 1=Other, 2=Hispanic, 3=White<br>\n",
    "Sector: 0=Other, 1=Manufacturing, 2=Construction<br>\n",
    "The first value for each will be dropped as the baseline when constructing dummies"
   ]
  },
  {
   "cell_type": "code",
   "execution_count": 6,
   "metadata": {},
   "outputs": [
    {
     "data": {
      "text/html": [
       "<div>\n",
       "<style scoped>\n",
       "    .dataframe tbody tr th:only-of-type {\n",
       "        vertical-align: middle;\n",
       "    }\n",
       "\n",
       "    .dataframe tbody tr th {\n",
       "        vertical-align: top;\n",
       "    }\n",
       "\n",
       "    .dataframe thead th {\n",
       "        text-align: right;\n",
       "    }\n",
       "</style>\n",
       "<table border=\"1\" class=\"dataframe\">\n",
       "  <thead>\n",
       "    <tr style=\"text-align: right;\">\n",
       "      <th></th>\n",
       "      <th>EDUCATION</th>\n",
       "      <th>SOUTH</th>\n",
       "      <th>FEMALE</th>\n",
       "      <th>EXPERIENCE</th>\n",
       "      <th>UNION</th>\n",
       "      <th>WAGE</th>\n",
       "      <th>AGE</th>\n",
       "      <th>MARR</th>\n",
       "      <th>Occupation_2</th>\n",
       "      <th>Occupation_3</th>\n",
       "      <th>Occupation_4</th>\n",
       "      <th>Occupation_5</th>\n",
       "      <th>Occupation_6</th>\n",
       "      <th>Race_2</th>\n",
       "      <th>Race_3</th>\n",
       "      <th>Sector_1</th>\n",
       "      <th>Sector_2</th>\n",
       "    </tr>\n",
       "  </thead>\n",
       "  <tbody>\n",
       "    <tr>\n",
       "      <th>0</th>\n",
       "      <td>8</td>\n",
       "      <td>0</td>\n",
       "      <td>1</td>\n",
       "      <td>21</td>\n",
       "      <td>0</td>\n",
       "      <td>5.10</td>\n",
       "      <td>35</td>\n",
       "      <td>1</td>\n",
       "      <td>0</td>\n",
       "      <td>0</td>\n",
       "      <td>0</td>\n",
       "      <td>0</td>\n",
       "      <td>1</td>\n",
       "      <td>1</td>\n",
       "      <td>0</td>\n",
       "      <td>1</td>\n",
       "      <td>0</td>\n",
       "    </tr>\n",
       "    <tr>\n",
       "      <th>1</th>\n",
       "      <td>9</td>\n",
       "      <td>0</td>\n",
       "      <td>1</td>\n",
       "      <td>42</td>\n",
       "      <td>0</td>\n",
       "      <td>4.95</td>\n",
       "      <td>57</td>\n",
       "      <td>1</td>\n",
       "      <td>0</td>\n",
       "      <td>0</td>\n",
       "      <td>0</td>\n",
       "      <td>0</td>\n",
       "      <td>1</td>\n",
       "      <td>0</td>\n",
       "      <td>1</td>\n",
       "      <td>1</td>\n",
       "      <td>0</td>\n",
       "    </tr>\n",
       "    <tr>\n",
       "      <th>2</th>\n",
       "      <td>12</td>\n",
       "      <td>0</td>\n",
       "      <td>0</td>\n",
       "      <td>1</td>\n",
       "      <td>0</td>\n",
       "      <td>6.67</td>\n",
       "      <td>19</td>\n",
       "      <td>0</td>\n",
       "      <td>0</td>\n",
       "      <td>0</td>\n",
       "      <td>0</td>\n",
       "      <td>0</td>\n",
       "      <td>1</td>\n",
       "      <td>0</td>\n",
       "      <td>1</td>\n",
       "      <td>1</td>\n",
       "      <td>0</td>\n",
       "    </tr>\n",
       "    <tr>\n",
       "      <th>3</th>\n",
       "      <td>12</td>\n",
       "      <td>0</td>\n",
       "      <td>0</td>\n",
       "      <td>4</td>\n",
       "      <td>0</td>\n",
       "      <td>4.00</td>\n",
       "      <td>22</td>\n",
       "      <td>0</td>\n",
       "      <td>0</td>\n",
       "      <td>0</td>\n",
       "      <td>0</td>\n",
       "      <td>0</td>\n",
       "      <td>1</td>\n",
       "      <td>0</td>\n",
       "      <td>1</td>\n",
       "      <td>0</td>\n",
       "      <td>0</td>\n",
       "    </tr>\n",
       "    <tr>\n",
       "      <th>4</th>\n",
       "      <td>12</td>\n",
       "      <td>0</td>\n",
       "      <td>0</td>\n",
       "      <td>17</td>\n",
       "      <td>0</td>\n",
       "      <td>7.50</td>\n",
       "      <td>35</td>\n",
       "      <td>1</td>\n",
       "      <td>0</td>\n",
       "      <td>0</td>\n",
       "      <td>0</td>\n",
       "      <td>0</td>\n",
       "      <td>1</td>\n",
       "      <td>0</td>\n",
       "      <td>1</td>\n",
       "      <td>0</td>\n",
       "      <td>0</td>\n",
       "    </tr>\n",
       "  </tbody>\n",
       "</table>\n",
       "</div>"
      ],
      "text/plain": [
       "   EDUCATION  SOUTH  FEMALE  EXPERIENCE  UNION  WAGE  AGE  MARR  Occupation_2  \\\n",
       "0          8      0       1          21      0  5.10   35     1             0   \n",
       "1          9      0       1          42      0  4.95   57     1             0   \n",
       "2         12      0       0           1      0  6.67   19     0             0   \n",
       "3         12      0       0           4      0  4.00   22     0             0   \n",
       "4         12      0       0          17      0  7.50   35     1             0   \n",
       "\n",
       "   Occupation_3  Occupation_4  Occupation_5  Occupation_6  Race_2  Race_3  \\\n",
       "0             0             0             0             1       1       0   \n",
       "1             0             0             0             1       0       1   \n",
       "2             0             0             0             1       0       1   \n",
       "3             0             0             0             1       0       1   \n",
       "4             0             0             0             1       0       1   \n",
       "\n",
       "   Sector_1  Sector_2  \n",
       "0         1         0  \n",
       "1         1         0  \n",
       "2         1         0  \n",
       "3         0         0  \n",
       "4         0         0  "
      ]
     },
     "execution_count": 6,
     "metadata": {},
     "output_type": "execute_result"
    }
   ],
   "source": [
    "#add dummies\n",
    "data = data.merge(pd.get_dummies(data.OCCUPATION,drop_first=True,prefix='Occupation'),left_index=True,right_index=True)\n",
    "data = data.merge(pd.get_dummies(data.RACE,drop_first=True,prefix='Race'),left_index=True,right_index=True)\n",
    "data = data.merge(pd.get_dummies(data.SECTOR,drop_first=True,prefix='Sector'),left_index=True,right_index=True)\n",
    "data.drop(columns=['OCCUPATION','RACE','SECTOR'],inplace=True)\n",
    "data.head()"
   ]
  },
  {
   "cell_type": "markdown",
   "metadata": {},
   "source": [
    "## Regression"
   ]
  },
  {
   "cell_type": "code",
   "execution_count": 7,
   "metadata": {},
   "outputs": [
    {
     "name": "stdout",
     "output_type": "stream",
     "text": [
      "                            OLS Regression Results                            \n",
      "==============================================================================\n",
      "Dep. Variable:                      Y   R-squared:                       0.326\n",
      "Model:                            OLS   Adj. R-squared:                  0.306\n",
      "Method:                 Least Squares   F-statistic:                     15.66\n",
      "Date:                Wed, 29 Jul 2020   Prob (F-statistic):           3.02e-35\n",
      "Time:                        11:58:23   Log-Likelihood:                -1525.8\n",
      "No. Observations:                 534   AIC:                             3086.\n",
      "Df Residuals:                     517   BIC:                             3158.\n",
      "Df Model:                          16                                         \n",
      "Covariance Type:            nonrobust                                         \n",
      "================================================================================\n",
      "                   coef    std err          t      P>|t|      [0.025      0.975]\n",
      "--------------------------------------------------------------------------------\n",
      "Intercept        2.2781      6.698      0.340      0.734     -10.880      15.436\n",
      "EDUCATION        0.8128      1.087      0.748      0.455      -1.322       2.948\n",
      "SOUTH           -0.5627      0.420     -1.340      0.181      -1.388       0.262\n",
      "FEMALE          -1.9425      0.419     -4.631      0.000      -2.767      -1.119\n",
      "EXPERIENCE       0.2448      1.082      0.226      0.821      -1.880       2.370\n",
      "UNION            1.6017      0.513      3.124      0.002       0.594       2.609\n",
      "AGE             -0.1580      1.081     -0.146      0.884      -2.282       1.965\n",
      "MARR             0.3005      0.411      0.731      0.465      -0.507       1.108\n",
      "Occupation_2    -4.0638      0.916     -4.437      0.000      -5.863      -2.264\n",
      "Occupation_3    -3.2682      0.763     -4.286      0.000      -4.766      -1.770\n",
      "Occupation_4    -3.9754      0.811     -4.903      0.000      -5.568      -2.383\n",
      "Occupation_5    -1.3336      0.729     -1.829      0.068      -2.766       0.098\n",
      "Occupation_6    -3.2905      0.800     -4.111      0.000      -4.863      -1.718\n",
      "Race_2           0.2314      0.992      0.233      0.816      -1.717       2.179\n",
      "Race_3           0.8379      0.574      1.458      0.145      -0.291       1.967\n",
      "Sector_1         1.0409      0.549      1.895      0.059      -0.038       2.120\n",
      "Sector_2         0.4774      0.966      0.494      0.621      -1.421       2.375\n",
      "==============================================================================\n",
      "Omnibus:                      244.027   Durbin-Watson:                   2.010\n",
      "Prob(Omnibus):                  0.000   Jarque-Bera (JB):             2320.734\n",
      "Skew:                           1.756   Prob(JB):                         0.00\n",
      "Kurtosis:                      12.590   Cond. No.                     1.71e+03\n",
      "==============================================================================\n",
      "\n",
      "Warnings:\n",
      "[1] Standard Errors assume that the covariance matrix of the errors is correctly specified.\n",
      "[2] The condition number is large, 1.71e+03. This might indicate that there are\n",
      "strong multicollinearity or other numerical problems.\n"
     ]
    }
   ],
   "source": [
    "#all variables\n",
    "X = data.drop(columns=['WAGE'])\n",
    "Y = data.WAGE\n",
    "\n",
    "labels = ['Intercept']+ list(X.columns)\n",
    "model = ols(\"Y ~ X\",data).fit()\n",
    "print(model.summary(xname=labels)) "
   ]
  },
  {
   "cell_type": "code",
   "execution_count": 8,
   "metadata": {},
   "outputs": [
    {
     "data": {
      "text/html": [
       "<div>\n",
       "<style scoped>\n",
       "    .dataframe tbody tr th:only-of-type {\n",
       "        vertical-align: middle;\n",
       "    }\n",
       "\n",
       "    .dataframe tbody tr th {\n",
       "        vertical-align: top;\n",
       "    }\n",
       "\n",
       "    .dataframe thead th {\n",
       "        text-align: right;\n",
       "    }\n",
       "</style>\n",
       "<table border=\"1\" class=\"dataframe\">\n",
       "  <thead>\n",
       "    <tr style=\"text-align: right;\">\n",
       "      <th></th>\n",
       "      <th>sum_sq</th>\n",
       "      <th>df</th>\n",
       "      <th>F</th>\n",
       "      <th>PR(&gt;F)</th>\n",
       "    </tr>\n",
       "  </thead>\n",
       "  <tbody>\n",
       "    <tr>\n",
       "      <th>X</th>\n",
       "      <td>4595.913009</td>\n",
       "      <td>16.0</td>\n",
       "      <td>15.663833</td>\n",
       "      <td>3.019469e-35</td>\n",
       "    </tr>\n",
       "    <tr>\n",
       "      <th>Residual</th>\n",
       "      <td>9480.785673</td>\n",
       "      <td>517.0</td>\n",
       "      <td>NaN</td>\n",
       "      <td>NaN</td>\n",
       "    </tr>\n",
       "  </tbody>\n",
       "</table>\n",
       "</div>"
      ],
      "text/plain": [
       "               sum_sq     df          F        PR(>F)\n",
       "X         4595.913009   16.0  15.663833  3.019469e-35\n",
       "Residual  9480.785673  517.0        NaN           NaN"
      ]
     },
     "execution_count": 8,
     "metadata": {},
     "output_type": "execute_result"
    }
   ],
   "source": [
    "table = sm.stats.anova_lm(model, typ=2)\n",
    "table"
   ]
  },
  {
   "cell_type": "code",
   "execution_count": 9,
   "metadata": {},
   "outputs": [
    {
     "data": {
      "text/plain": [
       "0.3264908280337832"
      ]
     },
     "execution_count": 9,
     "metadata": {},
     "output_type": "execute_result"
    }
   ],
   "source": [
    "table['sum_sq'][0]/(table['sum_sq'][0]+table['sum_sq'][1])"
   ]
  },
  {
   "cell_type": "code",
   "execution_count": 10,
   "metadata": {},
   "outputs": [
    {
     "data": {
      "image/png": "[encoded data removed]",
      "text/plain": [
       "<Figure size 432x288 with 1 Axes>"
      ]
     },
     "metadata": {
      "needs_background": "light"
     },
     "output_type": "display_data"
    }
   ],
   "source": [
    "ypred = model.predict(X)\n",
    "plt.scatter(Y,ypred)\n",
    "plt.xlabel('Actual')\n",
    "plt.ylabel('Predicted')\n",
    "plt.title('Predicted vs Actual')\n",
    "plt.show()"
   ]
  },
  {
   "cell_type": "markdown",
   "metadata": {},
   "source": [
    "Normality"
   ]
  },
  {
   "cell_type": "code",
   "execution_count": 11,
   "metadata": {},
   "outputs": [
    {
     "data": {
      "image/png": "[encoded data removed]",
      "text/plain": [
       "<Figure size 432x288 with 1 Axes>"
      ]
     },
     "metadata": {
      "needs_background": "light"
     },
     "output_type": "display_data"
    }
   ],
   "source": [
    "probplot = sm.ProbPlot(model.resid)\n",
    "probplot.qqplot(line='s')\n",
    "plt.title('Normality plot of residuals')\n",
    "plt.show()"
   ]
  },
  {
   "cell_type": "code",
   "execution_count": 12,
   "metadata": {},
   "outputs": [
    {
     "data": {
      "image/png": "[encoded data removed]",
      "text/plain": [
       "<Figure size 432x288 with 1 Axes>"
      ]
     },
     "metadata": {
      "needs_background": "light"
     },
     "output_type": "display_data"
    }
   ],
   "source": [
    "plt.hist(model.resid,bins=20)\n",
    "plt.title('Residual Histogram')\n",
    "plt.xlabel('Residual value')\n",
    "plt.ylabel('Count')\n",
    "plt.show()"
   ]
  },
  {
   "cell_type": "markdown",
   "metadata": {},
   "source": [
    "Constant Variance"
   ]
  },
  {
   "cell_type": "code",
   "execution_count": 13,
   "metadata": {},
   "outputs": [
    {
     "data": {
      "image/png": "[encoded data removed]",
      "text/plain": [
       "<Figure size 432x288 with 1 Axes>"
      ]
     },
     "metadata": {
      "needs_background": "light"
     },
     "output_type": "display_data"
    }
   ],
   "source": [
    "plt.scatter(model.resid.index,model.resid)\n",
    "plt.title('Residual Variance')\n",
    "plt.xlabel('Location')\n",
    "plt.ylabel('Residual value')\n",
    "plt.show()"
   ]
  },
  {
   "cell_type": "markdown",
   "metadata": {},
   "source": [
    "Independence/Autocorrelation"
   ]
  },
  {
   "cell_type": "code",
   "execution_count": 14,
   "metadata": {},
   "outputs": [
    {
     "data": {
      "text/plain": [
       "Residuals    1.000000\n",
       "Lag1        -0.004952\n",
       "Lag2         0.099252\n",
       "Lag3        -0.005456\n",
       "Lag4         0.022164\n",
       "Lag5         0.044308\n",
       "Name: Residuals, dtype: float64"
      ]
     },
     "execution_count": 14,
     "metadata": {},
     "output_type": "execute_result"
    }
   ],
   "source": [
    "res = DataFrame(model.resid,columns=['Residuals'])\n",
    "res['Lag1'] = res.shift(periods=1)\n",
    "res['Lag2'] = res['Residuals'].shift(periods=2)\n",
    "res['Lag3'] = res['Residuals'].shift(periods=3)\n",
    "res['Lag4'] = res['Residuals'].shift(periods=4)\n",
    "res['Lag5'] = res['Residuals'].shift(periods=5)\n",
    "res.corr()['Residuals']"
   ]
  },
  {
   "cell_type": "markdown",
   "metadata": {},
   "source": [
    "## Regression 2"
   ]
  },
  {
   "cell_type": "code",
   "execution_count": 15,
   "metadata": {},
   "outputs": [
    {
     "name": "stdout",
     "output_type": "stream",
     "text": [
      "                            OLS Regression Results                            \n",
      "==============================================================================\n",
      "Dep. Variable:                      Y   R-squared:                       0.326\n",
      "Model:                            OLS   Adj. R-squared:                  0.307\n",
      "Method:                 Least Squares   F-statistic:                     16.74\n",
      "Date:                Wed, 29 Jul 2020   Prob (F-statistic):           7.30e-36\n",
      "Time:                        11:58:24   Log-Likelihood:                -1525.8\n",
      "No. Observations:                 534   AIC:                             3084.\n",
      "Df Residuals:                     518   BIC:                             3152.\n",
      "Df Model:                          15                                         \n",
      "Covariance Type:            nonrobust                                         \n",
      "================================================================================\n",
      "                   coef    std err          t      P>|t|      [0.025      0.975]\n",
      "--------------------------------------------------------------------------------\n",
      "Intercept        1.3357      1.818      0.735      0.463      -2.236       4.908\n",
      "EDUCATION        0.6546      0.101      6.506      0.000       0.457       0.852\n",
      "SOUTH           -0.5640      0.419     -1.345      0.179      -1.388       0.260\n",
      "FEMALE          -1.9393      0.418     -4.634      0.000      -2.761      -1.117\n",
      "EXPERIENCE       0.0867      0.017      5.025      0.000       0.053       0.121\n",
      "UNION            1.6009      0.512      3.126      0.002       0.595       2.607\n",
      "MARR             0.2974      0.410      0.725      0.469      -0.509       1.103\n",
      "Occupation_2    -4.0640      0.915     -4.441      0.000      -5.862      -2.266\n",
      "Occupation_3    -3.2700      0.762     -4.292      0.000      -4.767      -1.773\n",
      "Occupation_4    -3.9766      0.810     -4.910      0.000      -5.568      -2.385\n",
      "Occupation_5    -1.3279      0.727     -1.826      0.068      -2.757       0.101\n",
      "Occupation_6    -3.2900      0.800     -4.114      0.000      -4.861      -1.719\n",
      "Race_2           0.2301      0.991      0.232      0.816      -1.716       2.176\n",
      "Race_3           0.8382      0.574      1.460      0.145      -0.289       1.966\n",
      "Sector_1         1.0396      0.549      1.895      0.059      -0.038       2.117\n",
      "Sector_2         0.4779      0.965      0.495      0.621      -1.418       2.374\n",
      "==============================================================================\n",
      "Omnibus:                      243.815   Durbin-Watson:                   2.010\n",
      "Prob(Omnibus):                  0.000   Jarque-Bera (JB):             2316.280\n",
      "Skew:                           1.754   Prob(JB):                         0.00\n",
      "Kurtosis:                      12.581   Cond. No.                         272.\n",
      "==============================================================================\n",
      "\n",
      "Warnings:\n",
      "[1] Standard Errors assume that the covariance matrix of the errors is correctly specified.\n"
     ]
    }
   ],
   "source": [
    "#drop age\n",
    "X = data.drop(columns=['WAGE','AGE'])\n",
    "Y = data.WAGE\n",
    "\n",
    "labels = ['Intercept']+ list(X.columns)\n",
    "model1a = ols(\"Y ~ X\",data).fit()\n",
    "print(model1a.summary(xname=labels)) "
   ]
  },
  {
   "cell_type": "code",
   "execution_count": 16,
   "metadata": {},
   "outputs": [
    {
     "name": "stdout",
     "output_type": "stream",
     "text": [
      "                            OLS Regression Results                            \n",
      "==============================================================================\n",
      "Dep. Variable:                      Y   R-squared:                       0.323\n",
      "Model:                            OLS   Adj. R-squared:                  0.306\n",
      "Method:                 Least Squares   F-statistic:                     19.11\n",
      "Date:                Wed, 29 Jul 2020   Prob (F-statistic):           1.20e-36\n",
      "Time:                        11:58:24   Log-Likelihood:                -1527.0\n",
      "No. Observations:                 534   AIC:                             3082.\n",
      "Df Residuals:                     520   BIC:                             3142.\n",
      "Df Model:                          13                                         \n",
      "Covariance Type:            nonrobust                                         \n",
      "================================================================================\n",
      "                   coef    std err          t      P>|t|      [0.025      0.975]\n",
      "--------------------------------------------------------------------------------\n",
      "Intercept        1.8703      1.719      1.088      0.277      -1.507       5.248\n",
      "EDUCATION        0.6659      0.099      6.723      0.000       0.471       0.860\n",
      "SOUTH           -0.6430      0.416     -1.544      0.123      -1.461       0.175\n",
      "FEMALE          -1.9067      0.418     -4.560      0.000      -2.728      -1.085\n",
      "EXPERIENCE       0.0871      0.017      5.062      0.000       0.053       0.121\n",
      "UNION            1.5186      0.510      2.980      0.003       0.517       2.520\n",
      "MARR             0.3254      0.410      0.794      0.428      -0.480       1.131\n",
      "Occupation_2    -4.0030      0.914     -4.381      0.000      -5.798      -2.208\n",
      "Occupation_3    -3.2885      0.761     -4.322      0.000      -4.783      -1.794\n",
      "Occupation_4    -4.0228      0.808     -4.979      0.000      -5.610      -2.436\n",
      "Occupation_5    -1.2906      0.727     -1.775      0.076      -2.719       0.137\n",
      "Occupation_6    -3.2159      0.797     -4.034      0.000      -4.782      -1.650\n",
      "Sector_1         0.9995      0.548      1.824      0.069      -0.077       2.076\n",
      "Sector_2         0.5107      0.964      0.530      0.597      -1.383       2.405\n",
      "==============================================================================\n",
      "Omnibus:                      243.467   Durbin-Watson:                   2.002\n",
      "Prob(Omnibus):                  0.000   Jarque-Bera (JB):             2307.977\n",
      "Skew:                           1.752   Prob(JB):                         0.00\n",
      "Kurtosis:                      12.563   Cond. No.                         261.\n",
      "==============================================================================\n",
      "\n",
      "Warnings:\n",
      "[1] Standard Errors assume that the covariance matrix of the errors is correctly specified.\n"
     ]
    }
   ],
   "source": [
    "#drop race\n",
    "X = data.drop(columns=['WAGE','AGE','Race_2','Race_3'])\n",
    "Y = data.WAGE\n",
    "\n",
    "labels = ['Intercept']+ list(X.columns)\n",
    "model1b = ols(\"Y ~ X\",data).fit()\n",
    "print(model1b.summary(xname=labels)) "
   ]
  },
  {
   "cell_type": "code",
   "execution_count": 17,
   "metadata": {},
   "outputs": [
    {
     "name": "stdout",
     "output_type": "stream",
     "text": [
      "                            OLS Regression Results                            \n",
      "==============================================================================\n",
      "Dep. Variable:                      Y   R-squared:                       0.319\n",
      "Model:                            OLS   Adj. R-squared:                  0.305\n",
      "Method:                 Least Squares   F-statistic:                     22.22\n",
      "Date:                Wed, 29 Jul 2020   Prob (F-statistic):           2.62e-37\n",
      "Time:                        11:58:24   Log-Likelihood:                -1528.7\n",
      "No. Observations:                 534   AIC:                             3081.\n",
      "Df Residuals:                     522   BIC:                             3133.\n",
      "Df Model:                          11                                         \n",
      "Covariance Type:            nonrobust                                         \n",
      "================================================================================\n",
      "                   coef    std err          t      P>|t|      [0.025      0.975]\n",
      "--------------------------------------------------------------------------------\n",
      "Intercept        1.8259      1.721      1.061      0.289      -1.555       5.207\n",
      "EDUCATION        0.6716      0.099      6.779      0.000       0.477       0.866\n",
      "SOUTH           -0.6971      0.415     -1.679      0.094      -1.513       0.119\n",
      "FEMALE          -1.8517      0.415     -4.457      0.000      -2.668      -1.036\n",
      "EXPERIENCE       0.0901      0.017      5.262      0.000       0.056       0.124\n",
      "UNION            1.4871      0.510      2.917      0.004       0.486       2.489\n",
      "MARR             0.3381      0.410      0.824      0.410      -0.468       1.144\n",
      "Occupation_2    -3.9988      0.915     -4.371      0.000      -5.796      -2.201\n",
      "Occupation_3    -3.3175      0.761     -4.359      0.000      -4.813      -1.822\n",
      "Occupation_4    -4.0979      0.808     -5.072      0.000      -5.685      -2.511\n",
      "Occupation_5    -1.2756      0.727     -1.754      0.080      -2.704       0.153\n",
      "Occupation_6    -2.7819      0.757     -3.675      0.000      -4.269      -1.295\n",
      "==============================================================================\n",
      "Omnibus:                      236.849   Durbin-Watson:                   2.001\n",
      "Prob(Omnibus):                  0.000   Jarque-Bera (JB):             2178.042\n",
      "Skew:                           1.702   Prob(JB):                         0.00\n",
      "Kurtosis:                      12.290   Cond. No.                         260.\n",
      "==============================================================================\n",
      "\n",
      "Warnings:\n",
      "[1] Standard Errors assume that the covariance matrix of the errors is correctly specified.\n"
     ]
    }
   ],
   "source": [
    "#drop sectors\n",
    "X = data.drop(columns=['WAGE','AGE','Race_2','Race_3','Sector_2','Sector_1'])\n",
    "Y = data.WAGE\n",
    "\n",
    "labels = ['Intercept']+ list(X.columns)\n",
    "model1c = ols(\"Y ~ X\",data).fit()\n",
    "print(model1c.summary(xname=labels)) "
   ]
  },
  {
   "cell_type": "code",
   "execution_count": 18,
   "metadata": {},
   "outputs": [
    {
     "name": "stdout",
     "output_type": "stream",
     "text": [
      "                            OLS Regression Results                            \n",
      "==============================================================================\n",
      "Dep. Variable:                      Y   R-squared:                       0.318\n",
      "Model:                            OLS   Adj. R-squared:                  0.305\n",
      "Method:                 Least Squares   F-statistic:                     24.39\n",
      "Date:                Wed, 29 Jul 2020   Prob (F-statistic):           7.15e-38\n",
      "Time:                        11:58:24   Log-Likelihood:                -1529.1\n",
      "No. Observations:                 534   AIC:                             3080.\n",
      "Df Residuals:                     523   BIC:                             3127.\n",
      "Df Model:                          10                                         \n",
      "Covariance Type:            nonrobust                                         \n",
      "================================================================================\n",
      "                   coef    std err          t      P>|t|      [0.025      0.975]\n",
      "--------------------------------------------------------------------------------\n",
      "Intercept        1.9795      1.711      1.157      0.248      -1.381       5.340\n",
      "EDUCATION        0.6723      0.099      6.788      0.000       0.478       0.867\n",
      "SOUTH           -0.6886      0.415     -1.659      0.098      -1.504       0.127\n",
      "FEMALE          -1.8453      0.415     -4.444      0.000      -2.661      -1.030\n",
      "EXPERIENCE       0.0937      0.017      5.657      0.000       0.061       0.126\n",
      "UNION            1.5174      0.508      2.985      0.003       0.519       2.516\n",
      "Occupation_2    -3.9754      0.914     -4.349      0.000      -5.771      -2.179\n",
      "Occupation_3    -3.3471      0.760     -4.404      0.000      -4.840      -1.854\n",
      "Occupation_4    -4.1482      0.805     -5.151      0.000      -5.730      -2.566\n",
      "Occupation_5    -1.2679      0.727     -1.744      0.082      -2.696       0.160\n",
      "Occupation_6    -2.7990      0.757     -3.700      0.000      -4.285      -1.313\n",
      "==============================================================================\n",
      "Omnibus:                      233.150   Durbin-Watson:                   1.999\n",
      "Prob(Omnibus):                  0.000   Jarque-Bera (JB):             2079.488\n",
      "Skew:                           1.679   Prob(JB):                         0.00\n",
      "Kurtosis:                      12.066   Cond. No.                         259.\n",
      "==============================================================================\n",
      "\n",
      "Warnings:\n",
      "[1] Standard Errors assume that the covariance matrix of the errors is correctly specified.\n"
     ]
    }
   ],
   "source": [
    "#drop married\n",
    "X = data.drop(columns=['WAGE','AGE','Race_2','Race_3','Sector_2','Sector_1','MARR'])\n",
    "Y = data.WAGE\n",
    "\n",
    "labels = ['Intercept']+ list(X.columns)\n",
    "model1d = ols(\"Y ~ X\",data).fit()\n",
    "print(model1d.summary(xname=labels)) "
   ]
  },
  {
   "cell_type": "code",
   "execution_count": 19,
   "metadata": {},
   "outputs": [
    {
     "name": "stdout",
     "output_type": "stream",
     "text": [
      "                            OLS Regression Results                            \n",
      "==============================================================================\n",
      "Dep. Variable:                      Y   R-squared:                       0.314\n",
      "Model:                            OLS   Adj. R-squared:                  0.303\n",
      "Method:                 Least Squares   F-statistic:                     26.71\n",
      "Date:                Wed, 29 Jul 2020   Prob (F-statistic):           5.05e-38\n",
      "Time:                        11:58:24   Log-Likelihood:                -1530.5\n",
      "No. Observations:                 534   AIC:                             3081.\n",
      "Df Residuals:                     524   BIC:                             3124.\n",
      "Df Model:                           9                                         \n",
      "Covariance Type:            nonrobust                                         \n",
      "================================================================================\n",
      "                   coef    std err          t      P>|t|      [0.025      0.975]\n",
      "--------------------------------------------------------------------------------\n",
      "Intercept        1.5257      1.691      0.902      0.367      -1.797       4.848\n",
      "EDUCATION        0.6906      0.099      7.005      0.000       0.497       0.884\n",
      "FEMALE          -1.8165      0.416     -4.371      0.000      -2.633      -1.000\n",
      "EXPERIENCE       0.0949      0.017      5.725      0.000       0.062       0.127\n",
      "UNION            1.5871      0.507      3.128      0.002       0.590       2.584\n",
      "Occupation_2    -4.0360      0.915     -4.411      0.000      -5.834      -2.239\n",
      "Occupation_3    -3.4139      0.760     -4.491      0.000      -4.907      -1.920\n",
      "Occupation_4    -4.1698      0.807     -5.170      0.000      -5.754      -2.585\n",
      "Occupation_5    -1.2929      0.728     -1.776      0.076      -2.723       0.137\n",
      "Occupation_6    -2.8271      0.758     -3.732      0.000      -4.316      -1.339\n",
      "==============================================================================\n",
      "Omnibus:                      232.369   Durbin-Watson:                   1.984\n",
      "Prob(Omnibus):                  0.000   Jarque-Bera (JB):             2085.313\n",
      "Skew:                           1.669   Prob(JB):                         0.00\n",
      "Kurtosis:                      12.087   Cond. No.                         258.\n",
      "==============================================================================\n",
      "\n",
      "Warnings:\n",
      "[1] Standard Errors assume that the covariance matrix of the errors is correctly specified.\n"
     ]
    }
   ],
   "source": [
    "#drop South\n",
    "X = data.drop(columns=['WAGE','AGE','Race_2','Race_3','Sector_2','Sector_1','MARR','SOUTH'])\n",
    "Y = data.WAGE\n",
    "\n",
    "labels = ['Intercept']+ list(X.columns)\n",
    "model1e = ols(\"Y ~ X\",data).fit()\n",
    "print(model1e.summary(xname=labels)) "
   ]
  },
  {
   "cell_type": "code",
   "execution_count": 20,
   "metadata": {},
   "outputs": [
    {
     "data": {
      "text/html": [
       "<div>\n",
       "<style scoped>\n",
       "    .dataframe tbody tr th:only-of-type {\n",
       "        vertical-align: middle;\n",
       "    }\n",
       "\n",
       "    .dataframe tbody tr th {\n",
       "        vertical-align: top;\n",
       "    }\n",
       "\n",
       "    .dataframe thead th {\n",
       "        text-align: right;\n",
       "    }\n",
       "</style>\n",
       "<table border=\"1\" class=\"dataframe\">\n",
       "  <thead>\n",
       "    <tr style=\"text-align: right;\">\n",
       "      <th></th>\n",
       "      <th>sum_sq</th>\n",
       "      <th>df</th>\n",
       "      <th>F</th>\n",
       "      <th>PR(&gt;F)</th>\n",
       "    </tr>\n",
       "  </thead>\n",
       "  <tbody>\n",
       "    <tr>\n",
       "      <th>X</th>\n",
       "      <td>4426.804126</td>\n",
       "      <td>9.0</td>\n",
       "      <td>26.708932</td>\n",
       "      <td>5.050518e-38</td>\n",
       "    </tr>\n",
       "    <tr>\n",
       "      <th>Residual</th>\n",
       "      <td>9649.894556</td>\n",
       "      <td>524.0</td>\n",
       "      <td>NaN</td>\n",
       "      <td>NaN</td>\n",
       "    </tr>\n",
       "  </tbody>\n",
       "</table>\n",
       "</div>"
      ],
      "text/plain": [
       "               sum_sq     df          F        PR(>F)\n",
       "X         4426.804126    9.0  26.708932  5.050518e-38\n",
       "Residual  9649.894556  524.0        NaN           NaN"
      ]
     },
     "execution_count": 20,
     "metadata": {},
     "output_type": "execute_result"
    }
   ],
   "source": [
    "table2 = sm.stats.anova_lm(model1e, typ=2)\n",
    "table2"
   ]
  },
  {
   "cell_type": "code",
   "execution_count": 21,
   "metadata": {},
   "outputs": [
    {
     "data": {
      "text/plain": [
       "0.31447743722363825"
      ]
     },
     "execution_count": 21,
     "metadata": {},
     "output_type": "execute_result"
    }
   ],
   "source": [
    "table2['sum_sq'][0]/(table2['sum_sq'][0]+table2['sum_sq'][1])"
   ]
  },
  {
   "cell_type": "code",
   "execution_count": 22,
   "metadata": {},
   "outputs": [
    {
     "data": {
      "image/png": "[encoded data removed]",
      "text/plain": [
       "<Figure size 432x288 with 1 Axes>"
      ]
     },
     "metadata": {
      "needs_background": "light"
     },
     "output_type": "display_data"
    }
   ],
   "source": [
    "ypred = model1e.predict(X)\n",
    "plt.scatter(Y,ypred)\n",
    "plt.xlabel('Actual')\n",
    "plt.ylabel('Predicted')\n",
    "plt.title('Predicted vs Actual')\n",
    "plt.show()"
   ]
  },
  {
   "cell_type": "code",
   "execution_count": 23,
   "metadata": {},
   "outputs": [
    {
     "data": {
      "image/png": "[encoded data removed]",
      "text/plain": [
       "<Figure size 432x288 with 1 Axes>"
      ]
     },
     "metadata": {
      "needs_background": "light"
     },
     "output_type": "display_data"
    }
   ],
   "source": [
    "probplot = sm.ProbPlot(model1e.resid)\n",
    "probplot.qqplot(line='s')\n",
    "plt.title('Normality plot of residuals')\n",
    "plt.show()"
   ]
  },
  {
   "cell_type": "code",
   "execution_count": 24,
   "metadata": {},
   "outputs": [
    {
     "data": {
      "image/png": "[encoded data removed]",
      "text/plain": [
       "<Figure size 432x288 with 1 Axes>"
      ]
     },
     "metadata": {
      "needs_background": "light"
     },
     "output_type": "display_data"
    }
   ],
   "source": [
    "plt.hist(model1e.resid,bins=20)\n",
    "plt.title('Residual Histogram')\n",
    "plt.xlabel('Residual value')\n",
    "plt.ylabel('Count')\n",
    "plt.show()"
   ]
  },
  {
   "cell_type": "code",
   "execution_count": 25,
   "metadata": {},
   "outputs": [
    {
     "data": {
      "image/png": "[encoded data removed]",
      "text/plain": [
       "<Figure size 432x288 with 1 Axes>"
      ]
     },
     "metadata": {
      "needs_background": "light"
     },
     "output_type": "display_data"
    }
   ],
   "source": [
    "plt.scatter(model1e.resid.index,model.resid)\n",
    "plt.title('Residual Variance')\n",
    "plt.xlabel('Location')\n",
    "plt.ylabel('Residual value')\n",
    "plt.show()"
   ]
  },
  {
   "cell_type": "code",
   "execution_count": 26,
   "metadata": {},
   "outputs": [
    {
     "data": {
      "text/plain": [
       "Residuals    1.000000\n",
       "Lag1         0.007833\n",
       "Lag2         0.093376\n",
       "Lag3        -0.012377\n",
       "Lag4         0.018466\n",
       "Lag5         0.045770\n",
       "Name: Residuals, dtype: float64"
      ]
     },
     "execution_count": 26,
     "metadata": {},
     "output_type": "execute_result"
    }
   ],
   "source": [
    "res = DataFrame(model1e.resid,columns=['Residuals'])\n",
    "res['Lag1'] = res.shift(periods=1)\n",
    "res['Lag2'] = res['Residuals'].shift(periods=2)\n",
    "res['Lag3'] = res['Residuals'].shift(periods=3)\n",
    "res['Lag4'] = res['Residuals'].shift(periods=4)\n",
    "res['Lag5'] = res['Residuals'].shift(periods=5)\n",
    "res.corr()['Residuals']"
   ]
  }
 ],
 "metadata": {
  "kernelspec": {
   "display_name": "Python 3",
   "language": "python",
   "name": "python3"
  },
  "language_info": {
   "codemirror_mode": {
    "name": "ipython",
    "version": 3
   },
   "file_extension": ".py",
   "mimetype": "text/x-python",
   "name": "python",
   "nbconvert_exporter": "python",
   "pygments_lexer": "ipython3",
   "version": "3.7.6"
  }
 },
 "nbformat": 4,
 "nbformat_minor": 2
}
